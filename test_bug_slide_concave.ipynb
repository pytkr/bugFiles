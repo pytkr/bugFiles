{
 "cells": [
  {
   "cell_type": "markdown",
   "metadata": {
    "slideshow": {
     "slide_type": "slide"
    }
   },
   "source": [
    "# I have a long code\n",
    "Watch the change of height of blank part during the slide effect"
   ]
  },
  {
   "cell_type": "code",
   "execution_count": null,
   "metadata": {
    "slideshow": {
     "slide_type": "slide"
    }
   },
   "outputs": [],
   "source": [
    "import sys\n",
    "import sys\n",
    "import sys\n",
    "import sys\n",
    "import sys\n",
    "import sys\n",
    "import sys\n",
    "import sys\n",
    "import sys\n",
    "import sys\n",
    "import sys\n",
    "import sys\n",
    "import sys\n",
    "import sys\n",
    "import sys\n",
    "import sys\n"
   ]
  },
  {
   "cell_type": "markdown",
   "metadata": {
    "slideshow": {
     "slide_type": "slide"
    }
   },
   "source": [
    "## Longer code gives longer blank lines"
   ]
  },
  {
   "cell_type": "code",
   "execution_count": null,
   "metadata": {
    "slideshow": {
     "slide_type": "slide"
    }
   },
   "outputs": [],
   "source": [
    "import sys\n",
    "import sys\n",
    "import sys\n",
    "import sys\n",
    "import sys\n",
    "import sys\n",
    "import sys\n",
    "import sys\n",
    "import sys\n",
    "import sys\n",
    "import sys\n",
    "import sys\n",
    "import sys\n",
    "import sys\n",
    "import sys\n",
    "import sys\n",
    "import sys\n",
    "import sys\n",
    "import sys\n",
    "import sys\n",
    "import sys\n",
    "import sys\n",
    "import sys\n",
    "import sys\n",
    "import sys\n",
    "import sys\n",
    "import sys\n",
    "import sys\n",
    "import sys\n",
    "import sys\n",
    "import sys\n",
    "import sys\n",
    "import sys\n",
    "import sys\n",
    "import sys\n",
    "import sys\n"
   ]
  },
  {
   "cell_type": "markdown",
   "metadata": {
    "slideshow": {
     "slide_type": "slide"
    }
   },
   "source": [
    "## complex code"
   ]
  },
  {
   "cell_type": "code",
   "execution_count": null,
   "metadata": {
    "slideshow": {
     "slide_type": "slide"
    }
   },
   "outputs": [],
   "source": [
    "# -*- coding: UTF-8 -*-\n",
    "\n",
    "for i in range(ord('x'), ord('z') + 1):\n",
    "    for j in range(ord('x'), ord('z') + 1):\n",
    "        if i != j:\n",
    "            for k in range(ord('x'), ord('z') + 1):\n",
    "                if (i != k) and (j != k):\n",
    "                    if (i != ord('x')) and (k != ord('x')) and (k != ord('z')):\n",
    "                        print('order is a -- %s\\t b -- %s\\tc--%s' % (chr(i), chr(j), chr(k)))\n",
    "\t\t\t\t\t\t\n",
    "for i in range(ord('x'), ord('z') + 1):\n",
    "    for j in range(ord('x'), ord('z') + 1):\n",
    "        if i != j:\n",
    "            for k in range(ord('x'), ord('z') + 1):\n",
    "                if (i != k) and (j != k):\n",
    "                    if (i != ord('x')) and (k != ord('x')) and (k != ord('z')):\n",
    "                        print('order is a -- %s\\t b -- %s\\tc--%s' % (chr(i), chr(j), chr(k)))\n",
    "\t\t\t\t\t\t\n",
    "for i in range(ord('x'), ord('z') + 1):\n",
    "    for j in range(ord('x'), ord('z') + 1):\n",
    "        if i != j:\n",
    "            for k in range(ord('x'), ord('z') + 1):\n",
    "                if (i != k) and (j != k):\n",
    "                    if (i != ord('x')) and (k != ord('x')) and (k != ord('z')):\n",
    "                        print('order is a -- %s\\t b -- %s\\tc--%s' % (chr(i), chr(j), chr(k)))\n",
    "\t\t\t\t\t\t\n",
    "for i in range(ord('x'), ord('z') + 1):\n",
    "    for j in range(ord('x'), ord('z') + 1):\n",
    "        if i != j:\n",
    "            for k in range(ord('x'), ord('z') + 1):\n",
    "                if (i != k) and (j != k):\n",
    "                    if (i != ord('x')) and (k != ord('x')) and (k != ord('z')):\n",
    "                        print('order is a -- %s\\t b -- %s\\tc--%s' % (chr(i), chr(j), chr(k)))\n",
    "\t\t\t\t\t\t\n",
    "for i in range(ord('x'), ord('z') + 1):\n",
    "    for j in range(ord('x'), ord('z') + 1):\n",
    "        if i != j:\n",
    "            for k in range(ord('x'), ord('z') + 1):\n",
    "                if (i != k) and (j != k):\n",
    "                    if (i != ord('x')) and (k != ord('x')) and (k != ord('z')):\n",
    "                        print('order is a -- %s\\t b -- %s\\tc--%s' % (chr(i), chr(j), chr(k)))\n",
    "\t\t\t\t\t\t\n",
    "for i in range(ord('x'), ord('z') + 1):\n",
    "    for j in range(ord('x'), ord('z') + 1):\n",
    "        if i != j:\n",
    "            for k in range(ord('x'), ord('z') + 1):\n",
    "                if (i != k) and (j != k):\n",
    "                    if (i != ord('x')) and (k != ord('x')) and (k != ord('z')):\n",
    "                        print('order is a -- %s\\t b -- %s\\tc--%s' % (chr(i), chr(j), chr(k)))"
   ]
  },
  {
   "cell_type": "markdown",
   "metadata": {
    "slideshow": {
     "slide_type": "slide"
    }
   },
   "source": [
    "# test end"
   ]
  },
  {
   "cell_type": "code",
   "execution_count": null,
   "metadata": {
    "slideshow": {
     "slide_type": "slide"
    }
   },
   "outputs": [],
   "source": []
  }
 ],
 "metadata": {
  "hide_input": false,
  "jupytext": {
   "cell_markers": "{{{,}}}",
   "text_representation": {
    "extension": ".py",
    "format_name": "light",
    "format_version": "1.4",
    "jupytext_version": "1.1.7"
   }
  },
  "kernelspec": {
   "display_name": "Python [conda env:Miniconda3]",
   "language": "python",
   "name": "conda-env-Miniconda3-py"
  },
  "language_info": {
   "codemirror_mode": {
    "name": "ipython",
    "version": 3
   },
   "file_extension": ".py",
   "mimetype": "text/x-python",
   "name": "python",
   "nbconvert_exporter": "python",
   "pygments_lexer": "ipython3",
   "version": "3.7.3"
  },
  "nbTranslate": {
   "displayLangs": [
    "zh",
    "en"
   ],
   "hotkey": "alt-t",
   "langInMainMenu": true,
   "sourceLang": "en",
   "targetLang": "zh",
   "useGoogleTranslate": true
  },
  "toc": {
   "base_numbering": 1,
   "nav_menu": {},
   "number_sections": true,
   "sideBar": true,
   "skip_h1_title": false,
   "title_cell": "Table of Contents",
   "title_sidebar": "Contents",
   "toc_cell": false,
   "toc_position": {},
   "toc_section_display": true,
   "toc_window_display": false
  },
  "varInspector": {
   "cols": {
    "lenName": 16,
    "lenType": 16,
    "lenVar": 40
   },
   "kernels_config": {
    "python": {
     "delete_cmd_postfix": "",
     "delete_cmd_prefix": "del ",
     "library": "var_list.py",
     "varRefreshCmd": "print(var_dic_list())"
    },
    "r": {
     "delete_cmd_postfix": ") ",
     "delete_cmd_prefix": "rm(",
     "library": "var_list.r",
     "varRefreshCmd": "cat(var_dic_list()) "
    }
   },
   "types_to_exclude": [
    "module",
    "function",
    "builtin_function_or_method",
    "instance",
    "_Feature"
   ],
   "window_display": false
  }
 },
 "nbformat": 4,
 "nbformat_minor": 2
}
